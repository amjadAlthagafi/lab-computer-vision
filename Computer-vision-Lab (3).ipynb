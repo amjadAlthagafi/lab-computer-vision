{
 "cells": [
  {
   "cell_type": "markdown",
   "metadata": {
    "id": "ZaLHjbgl4sdC"
   },
   "source": [
    "# Computer Vision (Image operators and filters)\n",
    "\n",
    "By the end of this lab, you will get hands on experience working with:\n",
    "\n",
    "*   Image Handling\n",
    "*   Image Manipulation\n",
    "*   Histogram and Histogram Equalization\n",
    "*   Basic filtering techniques\n",
    "\n",
    "<!-- ### **Remember this is a graded exercise.** -->\n",
    "\n",
    "**Reminder**:\n",
    "\n",
    "*   For every plot, make sure you provide appropriate titles, axis labels, legends, wherever applicable.\n",
    "*   Add sufficient comments and explanations wherever necessary.\n",
    "\n",
    "---\n"
   ]
  },
  {
   "cell_type": "code",
   "execution_count": null,
   "metadata": {
    "id": "BuqI1scQ4imT"
   },
   "outputs": [],
   "source": [
    "# Loading necessary libraries (Feel free to add new libraries if you need for any computation)\n",
    "\n",
    "import numpy as np\n",
    "from matplotlib import pyplot as plt\n",
    "from skimage import data, exposure, filters, io, morphology "
   ]
  },
  {
   "cell_type": "code",
   "execution_count": null,
   "metadata": {
    "id": "SvftuOlr5woU"
   },
   "outputs": [],
   "source": [
    "img1 = np.zeros((100, 100), dtype=np.uint8)\n",
    "img1[:, 50:] = 255  \n",
    "\n",
    "img2 = np.zeros((100, 100), dtype=np.uint8)\n",
    "img2[50:, :] = 255  \n",
    "\n",
    "img3 = np.zeros((100, 100), dtype=np.uint8)\n",
    "img3[:50, :50] = 255  \n",
    "img3[:50, 50:] = 0    \n",
    "img3[50:, :50] = 0    \n",
    "img3[50:, 50:] = 255  \n",
    "\n",
    "fig, axes = plt.subplots(1, 3, figsize=(10, 5))\n",
    "\n",
    "axes[0].imshow(img1, cmap='gray')\n",
    "axes[0].axis('off')\n",
    "axes[0].set_title(\"Left-Right Split\")\n",
    "\n",
    "axes[1].imshow(img2, cmap='gray')\n",
    "axes[1].axis('off')\n",
    "axes[1].set_title(\"Top-Bottom Split\")\n",
    "\n",
    "img3 = np.zeros((100, 100), dtype=np.uint8)\n",
    "\n",
    "img3[:50, :50] = 255\n",
    "\n",
    "plt.imshow(img3, cmap='gray')\n",
    "plt.axis('off')\n",
    "plt.title(\"Quadrant Split\")\n",
    "\n",
    "plt.show()"
   ]
  },
  {
   "cell_type": "code",
   "execution_count": null,
   "metadata": {
    "id": "VjFNuJ4Rraiw"
   },
   "outputs": [],
   "source": [
    "image = np.zeros((100, 100, 3), dtype=np.uint8)\n",
    "\n",
    "image[:50, :50] = [0, 0, 255]   \n",
    "image[:50, 50:] = [255, 0, 0]   \n",
    "image[50:, :50] = [0, 255, 0]    \n",
    "image[50:, 50:] = [255, 255, 0] \n",
    "\n",
    "plt.imshow(image)\n",
    "plt.axis(\"off\")\n",
    "plt.show()\n"
   ]
  },
  {
   "cell_type": "code",
   "execution_count": null,
   "metadata": {
    "id": "6T8NHYIAJ7fr"
   },
   "outputs": [],
   "source": [
    "import cv2\n",
    "\n",
    "image = cv2.imread('sillas.jpg')  # Ensure the image is in the correct folder\n",
    "image = cv2.cvtColor(image, cv2.COLOR_BGR2RGB)  # Convert BGR to RGB\n",
    "\n",
    "red_channel = image[:, :, 0]\n",
    "green_channel = image[:, :, 1]\n",
    "blue_channel = image[:, :, 2]\n",
    "\n",
    "fig, axes = plt.subplots(1, 4, figsize=(15, 5))\n",
    "\n",
    "axes[0].imshow(image)\n",
    "axes[0].set_title(\"Original Image\")\n",
    "axes[0].axis(\"off\")\n",
    "\n",
    "axes[1].imshow(red_channel, cmap=\"Reds\")\n",
    "axes[1].set_title(\"Red Channel\")\n",
    "axes[1].axis(\"off\")\n",
    "\n",
    "axes[2].imshow(green_channel, cmap=\"Greens\")\n",
    "axes[2].set_title(\"Green Channel\")\n",
    "axes[2].axis(\"off\")\n",
    "\n",
    "axes[3].imshow(blue_channel, cmap=\"Blues\")\n",
    "axes[3].set_title(\"Blue Channel\")\n",
    "axes[3].axis(\"off\")\n",
    "\n",
    "plt.show()"
   ]
  },
  {
   "cell_type": "markdown",
   "metadata": {
    "id": "v2KsIGB8shvy"
   },
   "source": [
    "*   The color **red** looks too bright for the eyes. Isn't it?? Lets change the color and see how it appears.\n",
    "    *    Create a new image where everything that is **'red' is changed to 'blue'**.\n",
    "*   Visualize the original image and the created image using matplotlib subplot."
   ]
  },
  {
   "cell_type": "code",
   "execution_count": null,
   "metadata": {
    "id": "111KEZossmpl"
   },
   "outputs": [],
   "source": [
    "image = cv2.imread('sillas.jpg')  \n",
    "image = cv2.cvtColor(image, cv2.COLOR_BGR2RGB)  \n",
    "\n",
    "modified_image = image.copy()\n",
    "\n",
    "lower_red = np.array([150, 0, 0])   \n",
    "upper_red = np.array([255, 120, 120]) \n",
    "\n",
    "mask = cv2.inRange(image, lower_red, upper_red)\n",
    "\n",
    "modified_image[mask > 0] = [0, 0, 255] \n",
    "\n",
    "fig, axes = plt.subplots(1, 2, figsize=(12, 6))\n",
    "\n",
    "axes[0].imshow(image)\n",
    "axes[0].set_title(\"Original Image\")\n",
    "axes[0].axis(\"off\")\n",
    "\n",
    "axes[1].imshow(modified_image)\n",
    "axes[1].set_title(\"Modified Image (Red → Blue)\")\n",
    "axes[1].axis(\"off\")\n",
    "\n",
    "plt.show()"
   ]
  },
  {
   "cell_type": "code",
   "execution_count": null,
   "metadata": {
    "id": "GVfOvZnCH4pK"
   },
   "outputs": [],
   "source": [
    "model = cv2.imread('model.png')   \n",
    "coat = cv2.imread('coat.png')      \n",
    "texture = cv2.imread('texture.png')  \n",
    "\n",
    "model = cv2.cvtColor(model, cv2.COLOR_BGR2RGB)\n",
    "coat = cv2.cvtColor(coat, cv2.COLOR_BGR2RGB)\n",
    "texture = cv2.cvtColor(texture, cv2.COLOR_BGR2RGB)\n",
    "\n",
    "gray_coat = cv2.cvtColor(coat, cv2.COLOR_RGB2GRAY)\n",
    "_, mask = cv2.threshold(gray_coat, 10, 255, cv2.THRESH_BINARY)\n",
    "\n",
    "texture = cv2.resize(texture, (coat.shape[1], coat.shape[0]))\n",
    "\n",
    "coat_region = cv2.bitwise_and(texture, texture, mask=mask)\n",
    "\n",
    "mask_inv = cv2.bitwise_not(mask)\n",
    "model_bg = cv2.bitwise_and(model, model, mask=mask_inv)\n",
    "\n",
    "final_image = cv2.add(model_bg, coat_region)\n",
    "\n",
    "fig, axes = plt.subplots(1, 4, figsize=(16, 6))\n",
    "\n",
    "axes[0].imshow(coat)\n",
    "axes[0].set_title(\"Coat\")\n",
    "axes[0].axis(\"off\")\n",
    "\n",
    "axes[1].imshow(model)\n",
    "axes[1].set_title(\"Model\")\n",
    "axes[1].axis(\"off\")\n",
    "\n",
    "axes[2].imshow(final_image)\n",
    "axes[2].set_title(\"Model with Textured Coat\")\n",
    "axes[2].axis(\"off\")\n",
    "\n",
    "plt.show()"
   ]
  },
  {
   "cell_type": "markdown",
   "metadata": {
    "id": "aTEmlIhY0w46"
   },
   "source": [
    "# Contrast Enhancement\n",
    "\n",
    "### **Exercise: Histogram Computation**\n",
    "\n",
    "*   Read the **'astronaut' image** from data module.\n",
    "*   Convert the image to grayscale.\n",
    "*   Compute the **histogram of the image.** *Hint: histogram function is available in skimage.exposure package*\n",
    "*   Plot the histogram using matplotlib plot.\n",
    "\n",
    "\n"
   ]
  },
  {
   "cell_type": "code",
   "execution_count": null,
   "metadata": {
    "id": "Pkh-HIjW2SBW"
   },
   "outputs": [],
   "source": [
    "from skimage import data, color, exposure\n",
    "\n",
    "image = data.astronaut()\n",
    "\n",
    "gray_image = color.rgb2gray(image)\n",
    "\n",
    "hist, bins = exposure.histogram(gray_image)\n",
    "\n",
    "plt.figure(figsize=(8, 5))\n",
    "plt.plot(bins, hist, color='black', lw=2)\n",
    "plt.xlabel('Pixel Intensity')\n",
    "plt.ylabel('Frequency')\n",
    "plt.title('Histogram of Grayscale Astronaut Image')\n",
    "plt.grid()\n",
    "plt.show()"
   ]
  },
  {
   "cell_type": "markdown",
   "metadata": {
    "id": "mIeB6eUYs-lR"
   },
   "source": [
    "*   Change the bin count to 8 and compute the histogram of the image and plot the computed histogram using matplotlib plot."
   ]
  },
  {
   "cell_type": "code",
   "execution_count": null,
   "metadata": {
    "id": "UXxj9_ZptB0_"
   },
   "outputs": [],
   "source": [
    "image = data.astronaut()\n",
    "\n",
    "gray_image = color.rgb2gray(image)\n",
    "\n",
    "hist, bins = np.histogram(gray_image, bins=8, range=(0, 1))\n",
    "\n",
    "plt.figure(figsize=(8, 5))\n",
    "plt.bar(bins[:-1], hist, width=(bins[1] - bins[0]), color='gray', edgecolor='black')\n",
    "plt.xlabel('Pixel Intensity')\n",
    "plt.ylabel('Frequency')\n",
    "plt.title('Histogram of Grayscale Astronaut Image (8 Bins)')\n",
    "plt.grid(axis='y')\n",
    "plt.show()"
   ]
  },
  {
   "cell_type": "markdown",
   "metadata": {
    "id": "NyBcGEtEJXP_"
   },
   "source": [
    "\n",
    "\n",
    "*   What happens when you change the bin count? Does your inference change based on the bin count? If yes, then how do you define the correct bin count.\n",
    "*   What happens when the bin count is very low and what happens when it is very high?\n",
    "\n"
   ]
  },
  {
   "cell_type": "markdown",
   "metadata": {
    "id": "tw8L1ZKvKOvo"
   },
   "source": [
    "**Solution**\n",
    "\n",
    "Changing the number of bins affects how detailed or generalized the histogram appears.\n",
    "Yes, the inference does change based on the bin count.\n",
    "What happens when the bin count is very low? The histogram becomes less detailed\n",
    "What happens When the bin count is very high? The histogram becomes very detailed\n",
    "\n",
    "\n",
    "..."
   ]
  },
  {
   "cell_type": "markdown",
   "metadata": {
    "id": "4ecOWgER2U_n"
   },
   "source": [
    "\n",
    "*   Compute histogram of the color image (without converting it to grayscale).\n",
    "*   Plot the total histogram and also histogram for each channel (show it in a single plot with differnt legends for each histogram).\n"
   ]
  },
  {
   "cell_type": "code",
   "execution_count": null,
   "metadata": {
    "id": "0R425Nve2Til"
   },
   "outputs": [],
   "source": [
    "image = data.astronaut()\n",
    "\n",
    "red_channel = image[:, :, 0]\n",
    "green_channel = image[:, :, 1]\n",
    "blue_channel = image[:, :, 2]\n",
    "\n",
    "hist_red, bins_red = np.histogram(red_channel, bins=256, range=(0, 256))\n",
    "hist_green, bins_green = np.histogram(green_channel, bins=256, range=(0, 256))\n",
    "hist_blue, bins_blue = np.histogram(blue_channel, bins=256, range=(0, 256))\n",
    "\n",
    "plt.figure(figsize=(10, 6))\n",
    "plt.plot(bins_red[:-1], hist_red, color='red', label='Red Channel', lw=2)\n",
    "plt.plot(bins_green[:-1], hist_green, color='green', label='Green Channel', lw=2)\n",
    "plt.plot(bins_blue[:-1], hist_blue, color='blue', label='Blue Channel', lw=2)\n",
    "\n",
    "total_hist = hist_red + hist_green + hist_blue\n",
    "plt.plot(bins_red[:-1], total_hist, color='black', label='Total Histogram', lw=2)\n",
    "\n",
    "plt.xlabel('Pixel Intensity')\n",
    "plt.ylabel('Frequency')\n",
    "plt.title('Histogram of Color Image (RGB Channels)')\n",
    "plt.legend()\n",
    "plt.grid(True)\n",
    "plt.show()\n"
   ]
  },
  {
   "cell_type": "markdown",
   "metadata": {
    "id": "vr9af6my4uKv"
   },
   "source": [
    "### **Exercise: Histogram Equalization**\n",
    "\n",
    "*   Read 'aquatermi_lowcontrast.jpg' image from the images folder.\n",
    "*   Compute the histogram of the image.\n",
    "*   Perform histogram equalization of the image to enhance the contrast. *Hint: Use equalize_hist function available in skimage.exposure*\n",
    "*   Also compute histogram of the equalized image.\n",
    "*   Use 2 x 2 subplot to show the original image and the enhanced image along with the corresponding histograms.\n",
    "\n"
   ]
  },
  {
   "cell_type": "code",
   "execution_count": null,
   "metadata": {
    "id": "0ROMuC8F6IYf"
   },
   "outputs": [],
   "source": [
    "image = io.imread('aquatermi_lowcontrast.jpg')\n",
    "\n",
    "hist_original, bins_original = np.histogram(image.flatten(), bins=256, range=(0, 256))\n",
    "\n",
    "equalized_image = exposure.equalize_hist(image)\n",
    "\n",
    "hist_equalized, bins_equalized = np.histogram(equalized_image.flatten(), bins=256, range=(0, 1))\n",
    "\n",
    "fig, axes = plt.subplots(2, 2, figsize=(10, 10))\n",
    "\n",
    "axes[0, 0].imshow(image, cmap='gray')\n",
    "axes[0, 0].axis('off')\n",
    "axes[0, 0].set_title(\"Original Image\")\n",
    "\n",
    "axes[0, 1].imshow(equalized_image, cmap='gray')\n",
    "axes[0, 1].axis('off')\n",
    "axes[0, 1].set_title(\"Equalized Image\")\n",
    "\n",
    "axes[1, 0].plot(bins_original[:-1], hist_original, color='black')\n",
    "axes[1, 0].set_title(\"Histogram of Original Image\")\n",
    "axes[1, 0].set_xlabel(\"Pixel Intensity\")\n",
    "axes[1, 0].set_ylabel(\"Frequency\")\n",
    "axes[1, 0].grid(True)\n",
    "\n",
    "axes[1, 1].plot(bins_equalized[:-1], hist_equalized, color='black')\n",
    "axes[1, 1].set_title(\"Histogram of Equalized Image\")\n",
    "axes[1, 1].set_xlabel(\"Pixel Intensity\")\n",
    "axes[1, 1].set_ylabel(\"Frequency\")\n",
    "axes[1, 1].grid(True)\n",
    "\n",
    "plt.tight_layout()\n",
    "plt.show()\n"
   ]
  },
  {
   "cell_type": "markdown",
   "metadata": {
    "id": "IvDnkRKA8PXe"
   },
   "source": [
    "\n",
    "*   The above function in skimage.exposure uses cdf and interpolation technique to normalize the histogram. How is it different from linear contrast stretch?\n"
   ]
  },
  {
   "cell_type": "markdown",
   "metadata": {
    "id": "JOCa3PzJLhl0"
   },
   "source": [
    "**Solution**\n",
    "\n",
    "Linear contrast stretching expands the pixel value range to cover the full range without changing the distribution, while histogram equalization uses the cumulative distribution function (CDF) to evenly distribute pixel values across the entire range, enhancing contrast more effectively.\n",
    "\n",
    "..."
   ]
  },
  {
   "cell_type": "markdown",
   "metadata": {
    "id": "boFCTwGV8kaz"
   },
   "source": [
    "### **Exercise: Linear Contrast Stretch**\n",
    "\n",
    "*   Write a function to compute the linear contrast stretch (Do not use an inbuilt function). \n",
    "*   Provide grayscale image array and bin count as parameters to the function and return the enhanced image array.\n",
    "*   Use a 2 x 2 plot to visualize the original image, histogram, enhanced image and the corresponding histogram.\n",
    "\n"
   ]
  },
  {
   "cell_type": "code",
   "execution_count": null,
   "metadata": {
    "id": "l6mlhI_s8lLv"
   },
   "outputs": [],
   "source": [
    "def linear_contrast_stretch(image):\n",
    "    I_min, I_max = np.min(image), np.max(image)  \n",
    "    stretched_image = (image - I_min) / (I_max - I_min) * 255  \n",
    "    return stretched_image.astype(np.uint8)\n",
    "\n",
    "def plot_image_and_histograms(original_image, enhanced_image):\n",
    "    hist_original, bins_original = np.histogram(original_image.flatten(), bins=256, range=(0, 256))\n",
    "    hist_enhanced, bins_enhanced = np.histogram(enhanced_image.flatten(), bins=256, range=(0, 256))\n",
    "\n",
    "    fig, axes = plt.subplots(2, 2, figsize=(10, 10))\n",
    "\n",
    "    axes[0, 0].imshow(original_image, cmap='gray')\n",
    "    axes[0, 0].axis('off')\n",
    "    axes[0, 0].set_title(\"Original Image\")\n",
    "\n",
    "    axes[0, 1].imshow(enhanced_image, cmap='gray')\n",
    "    axes[0, 1].axis('off')\n",
    "    axes[0, 1].set_title(\"Enhanced Image\")\n",
    "\n",
    "    axes[1, 0].plot(bins_original[:-1], hist_original, color='black')\n",
    "    axes[1, 0].set_title(\"Histogram of Original Image\")\n",
    "\n",
    "    axes[1, 1].plot(bins_enhanced[:-1], hist_enhanced, color='black')\n",
    "    axes[1, 1].set_title(\"Histogram of Enhanced Image\")\n",
    "\n",
    "    plt.tight_layout()\n",
    "    plt.show()\n",
    "\n",
    "image = np.random.randint(50, 200, (100, 100), dtype=np.uint8)  # Create random grayscale image\n",
    "\n",
    "enhanced_image = linear_contrast_stretch(image)\n",
    "\n",
    "plot_image_and_histograms(image, enhanced_image)\n"
   ]
  },
  {
   "cell_type": "markdown",
   "metadata": {
    "id": "lfuWqX2BWyXm"
   },
   "source": [
    "# Filters\n",
    "\n",
    "### **Exercise: Mean Filter**\n",
    "\n",
    "*   Load the **coins** image from the data module.\n",
    "*   Define a disk structuring element (selem) of radius 20. *Hint: Structuring elements are defined in the skimage.morphology module*\n",
    "*   Use mean filter using the created selem. *Hint: The mean filter is available in skimage.filters.rank module*\n",
    "*   Increase the radius of the selem by 10 and apply the mean filter.\n",
    "*   Reduce the radius of the selem by 10 and apply the mean filter.\n",
    "*   Visualize all the smoothened images along with the original image.\n",
    "\n",
    "\n"
   ]
  },
  {
   "cell_type": "code",
   "execution_count": null,
   "metadata": {
    "id": "qp7_zxDjL7vS"
   },
   "outputs": [],
   "source": [
    "import matplotlib.pyplot as plt\n",
    "from skimage import data, filters, morphology\n",
    "from skimage.filters import rank\n",
    "from skimage.morphology import disk\n",
    "from skimage.util import img_as_ubyte\n",
    "\n",
    "image = data.coins()\n",
    "image = img_as_ubyte(image) \n",
    "\n",
    "\n",
    "selem1 = disk(20)  \n",
    "selem2 = disk(30)  \n",
    "selem3 = disk(10)  \n",
    "\n",
    "smoothed1 = rank.mean(image, footprint=selem1)\n",
    "smoothed2 = rank.mean(image, footprint=selem2)\n",
    "smoothed3 = rank.mean(image, footprint=selem3)\n",
    "\n",
    "fig, axes = plt.subplots(1, 4, figsize=(16, 6))\n",
    "\n",
    "axes[0].imshow(image, cmap='gray')\n",
    "axes[0].set_title(\"Original Image\")\n",
    "axes[0].axis(\"off\")\n",
    "\n",
    "axes[1].imshow(smoothed1, cmap='gray')\n",
    "axes[1].set_title(\"Mean Filter (Radius 20)\")\n",
    "axes[1].axis(\"off\")\n",
    "\n",
    "axes[2].imshow(smoothed2, cmap='gray')\n",
    "axes[2].set_title(\"Mean Filter (Radius 30)\")\n",
    "axes[2].axis(\"off\")\n",
    "\n",
    "axes[3].imshow(smoothed3, cmap='gray')\n",
    "axes[3].set_title(\"Mean Filter (Radius 10)\")\n",
    "axes[3].axis(\"off\")\n",
    "\n",
    "plt.tight_layout()\n",
    "plt.show()\n"
   ]
  },
  {
   "cell_type": "markdown",
   "metadata": {
    "id": "7DIOQCcsvEqG"
   },
   "source": [
    "*   Use different selem (square, rectangle, star, diamond) to view the behaviour of the mean filter (It is not necessary to repeat with different sizes; it is sufficient to show the one with optimal parameter).\n",
    "*   Create a 2 x n subplot to show the selem in the first row and the corresponding smoothened image in the second row."
   ]
  },
  {
   "cell_type": "code",
   "execution_count": null,
   "metadata": {
    "id": "3GbQXmYvvXUO"
   },
   "outputs": [],
   "source": [
    "from skimage import data\n",
    "from skimage.filters import rank\n",
    "from skimage.morphology import square, rectangle, star, diamond\n",
    "from skimage.util import img_as_ubyte\n",
    "\n",
    "selem_square = square(15)\n",
    "selem_rectangle = rectangle(10, 20)\n",
    "selem_star = star(10)\n",
    "selem_diamond = diamond(10)\n",
    "\n",
    "filtered_square = rank.mean(image, footprint=selem_square)\n",
    "filtered_rectangle = rank.mean(image, footprint=selem_rectangle)\n",
    "filtered_star = rank.mean(image, footprint=selem_star)\n",
    "filtered_diamond = rank.mean(image, footprint=selem_diamond)\n",
    "\n",
    "selems = [selem_square, selem_rectangle, selem_star, selem_diamond]\n",
    "filtered_images = [filtered_square, filtered_rectangle, filtered_star, filtered_diamond]\n",
    "titles = [\"Square\", \"Rectangle\", \"Star\", \"Diamond\"]\n",
    "\n",
    "fig, axes = plt.subplots(2, len(selems), figsize=(16, 8))\n",
    "\n",
    "for i, selem in enumerate(selems):\n",
    "    axes[0, i].imshow(selem, cmap='gray')\n",
    "    axes[0, i].set_title(f\"{titles[i]} Structuring Element\")\n",
    "    axes[0, i].axis(\"off\")\n",
    "\n",
    "for i, filtered in enumerate(filtered_images):\n",
    "    axes[1, i].imshow(filtered, cmap='gray')\n",
    "    axes[1, i].set_title(f\"Filtered Image ({titles[i]})\")\n",
    "    axes[1, i].axis(\"off\")\n",
    "\n",
    "plt.tight_layout()\n",
    "plt.show()"
   ]
  },
  {
   "cell_type": "markdown",
   "metadata": {
    "id": "jV7OHQwKZ9GU"
   },
   "source": [
    "*   How does changing the radius of disk affect the smoothing functionality?"
   ]
  },
  {
   "cell_type": "markdown",
   "metadata": {
    "id": "QG91LBzwMBUR"
   },
   "source": [
    "**Solution**\n",
    "\n",
    "Increasing the disk radius increases smoothing but reduces details, while a smaller radius preserves details with less smoothing.\n",
    "\n",
    "..."
   ]
  },
  {
   "cell_type": "markdown",
   "metadata": {
    "id": "mPJFLYMkMBqs"
   },
   "source": [
    "\n",
    "*   What is the observed behaviour with difference in the structuring element?\n",
    "\n"
   ]
  },
  {
   "cell_type": "markdown",
   "metadata": {
    "id": "hcJkpvnjMFY5"
   },
   "source": [
    "**Solution**\n",
    "\n",
    "Different structuring elements affect smoothing patterns; square and rectangle blur more uniformly, while star and diamond preserve edges better.\n",
    "..."
   ]
  },
  {
   "cell_type": "markdown",
   "metadata": {
    "id": "v5hySxTKM4AB"
   },
   "source": [
    "\n",
    "\n",
    "*   What is the difference between mean filter and gaussian filter?\n",
    "*   Where do you use mean filters and where do you use gaussian filters?\n",
    "\n"
   ]
  },
  {
   "cell_type": "markdown",
   "metadata": {
    "id": "w0foSx_GNDB5"
   },
   "source": [
    "**Solution**\n",
    "\n",
    "The mean filter applies uniform averaging, leading to stronger blurring, while the Gaussian filter applies weighted averaging, preserving edges better. Mean filters are used for removing salt-and-pepper noise, while Gaussian filters are preferred for reducing Gaussian noise and preprocessing in vision tasks.\n",
    "..."
   ]
  },
  {
   "cell_type": "code",
   "execution_count": null,
   "metadata": {},
   "outputs": [],
   "source": []
  }
 ],
 "metadata": {
  "colab": {
   "authorship_tag": "ABX9TyPs+7OmQKl06bCVLggAj4BU",
   "collapsed_sections": [],
   "provenance": []
  },
  "kernelspec": {
   "display_name": "Python [conda env:base] *",
   "language": "python",
   "name": "conda-base-py"
  },
  "language_info": {
   "codemirror_mode": {
    "name": "ipython",
    "version": 3
   },
   "file_extension": ".py",
   "mimetype": "text/x-python",
   "name": "python",
   "nbconvert_exporter": "python",
   "pygments_lexer": "ipython3",
   "version": "3.12.2"
  }
 },
 "nbformat": 4,
 "nbformat_minor": 4
}
